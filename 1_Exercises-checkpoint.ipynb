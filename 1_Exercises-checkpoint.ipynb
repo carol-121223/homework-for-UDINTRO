{
 "cells": [
  {
   "cell_type": "markdown",
   "id": "38e188a5",
   "metadata": {},
   "source": [
    "# Exercise 00\n",
    "Write a piece of code that allocates a list of 20 integers and initializes each element by its index multiplied by 5. Print the result."
   ]
  },
  {
   "cell_type": "code",
   "execution_count": 21,
   "id": "01aa4f35",
   "metadata": {},
   "outputs": [
    {
     "name": "stdout",
     "output_type": "stream",
     "text": [
      "[0, 5, 10, 15, 20, 25, 30, 35, 40, 45, 50, 55, 60, 65, 70, 75, 80, 85, 90, 95]\n"
     ]
    }
   ],
   "source": [
    "myList = []\n",
    "for i in range(20):\n",
    "    myList.append(i*5)\n",
    "print(myList)"
   ]
  },
  {
   "cell_type": "markdown",
   "id": "529d91ae",
   "metadata": {},
   "source": [
    "# Exercise 01\n",
    "Define a function that takes an integer as input, prints  all integers that it is divisable by, and returns the largest one."
   ]
  },
  {
   "cell_type": "code",
   "execution_count": 38,
   "id": "30e79132",
   "metadata": {},
   "outputs": [
    {
     "name": "stdin",
     "output_type": "stream",
     "text": [
      " 6\n"
     ]
    },
    {
     "name": "stdout",
     "output_type": "stream",
     "text": [
      "[1, 2, 3]\n",
      "3\n"
     ]
    }
   ],
   "source": [
    "a=int(input())\n",
    "mylist=[]\n",
    "def f(x):\n",
    "    for i in range(1,a):\n",
    "        if a%i==0:\n",
    "            mylist.append(i)\n",
    "    return max(mylist)\n",
    "f(a)\n",
    "print(mylist)\n",
    "print(f(a))"
   ]
  },
  {
   "cell_type": "code",
   "execution_count": 42,
   "id": "81996b6c-29c7-43ae-9887-ad482df0812d",
   "metadata": {},
   "outputs": [],
   "source": [
    "def dividers(n):\n",
    "    div = 1\n",
    "    for i in range(1,int(n/2)+1):\n",
    "        if n%i==0:\n",
    "            div = i\n",
    "            print(i)\n",
    "    return div"
   ]
  },
  {
   "cell_type": "code",
   "execution_count": 59,
   "id": "395ad1a5-3a9a-48b1-9f80-551681cbed69",
   "metadata": {},
   "outputs": [
    {
     "name": "stdout",
     "output_type": "stream",
     "text": [
      "1\n",
      "2\n",
      "4\n",
      "5\n",
      "10\n",
      "10\n"
     ]
    }
   ],
   "source": [
    "print(dividers(20))"
   ]
  },
  {
   "cell_type": "code",
   "execution_count": 55,
   "id": "fbee7ff5-e7e6-496b-a117-1e570fb38209",
   "metadata": {},
   "outputs": [],
   "source": [
    "def dividers(n):\n",
    "    div = 1\n",
    "    for i in range(1,int(n/2)+1):\n",
    "        if n%i==0:\n",
    "            div = i\n",
    "            print(i)\n",
    "    return div"
   ]
  },
  {
   "cell_type": "code",
   "execution_count": 57,
   "id": "b3147106-344e-4c3c-a0d4-8528cec5a0ef",
   "metadata": {},
   "outputs": [
    {
     "name": "stdout",
     "output_type": "stream",
     "text": [
      "1\n",
      "2\n",
      "5\n"
     ]
    },
    {
     "data": {
      "text/plain": [
       "5"
      ]
     },
     "execution_count": 57,
     "metadata": {},
     "output_type": "execute_result"
    }
   ],
   "source": [
    "dividers(10)"
   ]
  },
  {
   "cell_type": "markdown",
   "id": "cfbe30d4",
   "metadata": {},
   "source": [
    "# Exercise 02\n",
    "- create a dictionary with 6 keys and values of your choice\n",
    "- write a function that takes a dictionary and a value as input and returns whether the value occurs as a key in the dictionary\n",
    "- write a function that takes a dictionary as input, and returns the dictionary but the keys are swapped with their values (resolve the issue if a value occurs twice!)"
   ]
  },
  {
   "cell_type": "code",
   "execution_count": 71,
   "id": "2123f1c6",
   "metadata": {},
   "outputs": [],
   "source": [
    "my_dic={\"age\":\"18\",\"name\":\"jake\",\"barnd\":\"nike\",\"gender\":\"female\",\"height\":\"180\",\"color\":\"red\"}"
   ]
  },
  {
   "cell_type": "code",
   "execution_count": 86,
   "id": "33a15bed-634e-4d22-a819-bb61313c9002",
   "metadata": {},
   "outputs": [],
   "source": [
    "def b(x,y):\n",
    "    for z in x.keys():\n",
    "        if y==z:\n",
    "            print(\"true\")\n",
    "        else:\n",
    "            print(\"false\")"
   ]
  },
  {
   "cell_type": "code",
   "execution_count": 88,
   "id": "ba8d48a3-53e4-4e5e-83ce-438fc10e3f6c",
   "metadata": {},
   "outputs": [
    {
     "name": "stdout",
     "output_type": "stream",
     "text": [
      "true\n",
      "false\n",
      "false\n",
      "false\n",
      "false\n",
      "false\n"
     ]
    }
   ],
   "source": [
    "b(my_dic,\"age\")"
   ]
  },
  {
   "cell_type": "code",
   "execution_count": 91,
   "id": "61b48958-4fd3-4a60-a156-9938f6b80541",
   "metadata": {},
   "outputs": [],
   "source": [
    "def b(x,y):\n",
    "    for z in x.keys():\n",
    "        if y==z:\n",
    "            return True\n",
    "    return False"
   ]
  },
  {
   "cell_type": "code",
   "execution_count": 92,
   "id": "cd32f2a1-cc1c-4be8-a647-ec428ea6a1c3",
   "metadata": {},
   "outputs": [
    {
     "data": {
      "text/plain": [
       "False"
      ]
     },
     "execution_count": 92,
     "metadata": {},
     "output_type": "execute_result"
    }
   ],
   "source": [
    "b(my_dic,\"18\")"
   ]
  },
  {
   "cell_type": "code",
   "execution_count": null,
   "id": "b1815146-8886-4cb1-891f-99515aa834ba",
   "metadata": {},
   "outputs": [],
   "source": [
    "def "
   ]
  },
  {
   "cell_type": "markdown",
   "id": "b4b4e426",
   "metadata": {},
   "source": [
    "# Exercise 03\n",
    "Define a function that creates a dictionary of the first n fibonacci numbers as values paired with their indices as keys. "
   ]
  },
  {
   "cell_type": "code",
   "execution_count": 68,
   "id": "7845b5a4",
   "metadata": {},
   "outputs": [
    {
     "name": "stdin",
     "output_type": "stream",
     "text": [
      " 20\n"
     ]
    },
    {
     "name": "stdout",
     "output_type": "stream",
     "text": [
      "{0: 0, 1: 1, 2: 1, 3: 2, 4: 3, 5: 5, 6: 8, 7: 13, 8: 21, 9: 34, 10: 55, 11: 89, 12: 144, 13: 233, 14: 377, 15: 610, 16: 987, 17: 1597, 18: 2584, 19: 4181}\n"
     ]
    }
   ],
   "source": [
    "w=int(input())\n",
    "def a(x):\n",
    "    dic={}\n",
    "    b=0\n",
    "    c=1\n",
    "    for i in range(0,w):\n",
    "        dic[i]=b\n",
    "        e=b+c\n",
    "        b=c\n",
    "        c=e\n",
    "    return dic\n",
    "print(a(x))"
   ]
  }
 ],
 "metadata": {
  "kernelspec": {
   "display_name": "Python 3 (ipykernel)",
   "language": "python",
   "name": "python3"
  },
  "language_info": {
   "codemirror_mode": {
    "name": "ipython",
    "version": 3
   },
   "file_extension": ".py",
   "mimetype": "text/x-python",
   "name": "python",
   "nbconvert_exporter": "python",
   "pygments_lexer": "ipython3",
   "version": "3.11.10"
  }
 },
 "nbformat": 4,
 "nbformat_minor": 5
}
